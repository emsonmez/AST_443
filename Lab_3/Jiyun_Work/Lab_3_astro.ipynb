{
 "cells": [
  {
   "cell_type": "code",
   "execution_count": 9,
   "metadata": {},
   "outputs": [
    {
     "data": {
      "text/plain": [
       "['C:\\\\Users\\\\sunyx\\\\AppData\\\\Local\\\\Packages\\\\PythonSoftwareFoundation.Python.3.12_qbz5n2kfra8p0\\\\LocalCache\\\\local-packages\\\\Python312\\\\site-packages\\\\astropy']"
      ]
     },
     "execution_count": 9,
     "metadata": {},
     "output_type": "execute_result"
    }
   ],
   "source": [
    "import astropy\n",
    "astropy.__path__"
   ]
  },
  {
   "cell_type": "code",
   "execution_count": 10,
   "metadata": {},
   "outputs": [],
   "source": [
    "import keyring\n",
    "keyring.set_password('astroquery:astrometry_net', None, 'apikeyhere')\n",
    "from astroquery.astrometry_net import AstrometryNet"
   ]
  },
  {
   "cell_type": "code",
   "execution_count": 11,
   "metadata": {},
   "outputs": [],
   "source": [
    "ast = AstrometryNet()\n",
    "ast.api_key = keyring.get_password('astroquery:astrometry_net', 'username')"
   ]
  },
  {
   "cell_type": "code",
   "execution_count": null,
   "metadata": {},
   "outputs": [
    {
     "name": "stdout",
     "output_type": "stream",
     "text": [
      "Solving........................................................................................"
     ]
    },
    {
     "ename": "TimeoutError",
     "evalue": "('Solve timed out without success or failure', 11164279)",
     "output_type": "error",
     "traceback": [
      "\u001b[1;31m---------------------------------------------------------------------------\u001b[0m",
      "\u001b[1;31mTimeoutError\u001b[0m                              Traceback (most recent call last)",
      "Cell \u001b[1;32mIn[12], line 4\u001b[0m\n\u001b[0;32m      1\u001b[0m ast \u001b[38;5;241m=\u001b[39m AstrometryNet()\n\u001b[0;32m      2\u001b[0m ast\u001b[38;5;241m.\u001b[39mapi_key \u001b[38;5;241m=\u001b[39m \u001b[38;5;124m'\u001b[39m\u001b[38;5;124mlhtjfjrgllrbebjp\u001b[39m\u001b[38;5;124m'\u001b[39m\n\u001b[1;32m----> 4\u001b[0m wcs_header \u001b[38;5;241m=\u001b[39m \u001b[43mast\u001b[49m\u001b[38;5;241;43m.\u001b[39;49m\u001b[43msolve_from_image\u001b[49m\u001b[43m(\u001b[49m\u001b[38;5;124;43mr\u001b[39;49m\u001b[38;5;124;43m\"\u001b[39;49m\u001b[38;5;124;43m..\u001b[39;49m\u001b[38;5;124;43m\\\u001b[39;49m\u001b[38;5;124;43mFITS_Files\u001b[39;49m\u001b[38;5;124;43m\\\u001b[39;49m\u001b[38;5;124;43mNov_5_DY_Peg\u001b[39;49m\u001b[38;5;124;43m\\\u001b[39;49m\u001b[38;5;124;43mDy_Peg_Light_Frames_.00000031.FIT\u001b[39;49m\u001b[38;5;124;43m\"\u001b[39;49m\u001b[43m)\u001b[49m\n",
      "File \u001b[1;32m~\\AppData\\Local\\Packages\\PythonSoftwareFoundation.Python.3.12_qbz5n2kfra8p0\\LocalCache\\local-packages\\Python312\\site-packages\\astroquery\\astrometry_net\\core.py:460\u001b[0m, in \u001b[0;36mAstrometryNetClass.solve_from_image\u001b[1;34m(self, image_file_path, force_image_upload, ra_key, dec_key, ra_dec_units, fwhm, detect_threshold, solve_timeout, verbose, return_submission_id, **settings)\u001b[0m\n\u001b[0;32m    458\u001b[0m response_d \u001b[38;5;241m=\u001b[39m response\u001b[38;5;241m.\u001b[39mjson()\n\u001b[0;32m    459\u001b[0m submission_id \u001b[38;5;241m=\u001b[39m response_d[\u001b[38;5;124m'\u001b[39m\u001b[38;5;124msubid\u001b[39m\u001b[38;5;124m'\u001b[39m]\n\u001b[1;32m--> 460\u001b[0m \u001b[38;5;28;01mreturn\u001b[39;00m \u001b[38;5;28;43mself\u001b[39;49m\u001b[38;5;241;43m.\u001b[39;49m\u001b[43mmonitor_submission\u001b[49m\u001b[43m(\u001b[49m\u001b[43msubmission_id\u001b[49m\u001b[43m,\u001b[49m\n\u001b[0;32m    461\u001b[0m \u001b[43m                               \u001b[49m\u001b[43msolve_timeout\u001b[49m\u001b[38;5;241;43m=\u001b[39;49m\u001b[43msolve_timeout\u001b[49m\u001b[43m,\u001b[49m\n\u001b[0;32m    462\u001b[0m \u001b[43m                               \u001b[49m\u001b[43mverbose\u001b[49m\u001b[38;5;241;43m=\u001b[39;49m\u001b[43mverbose\u001b[49m\u001b[43m,\u001b[49m\n\u001b[0;32m    463\u001b[0m \u001b[43m                               \u001b[49m\u001b[43mreturn_submission_id\u001b[49m\u001b[38;5;241;43m=\u001b[39;49m\u001b[43mreturn_submission_id\u001b[49m\u001b[43m)\u001b[49m\n",
      "File \u001b[1;32m~\\AppData\\Local\\Packages\\PythonSoftwareFoundation.Python.3.12_qbz5n2kfra8p0\\LocalCache\\local-packages\\Python312\\site-packages\\astroquery\\astrometry_net\\core.py:270\u001b[0m, in \u001b[0;36mAstrometryNetClass.monitor_submission\u001b[1;34m(self, submission_id, solve_timeout, verbose, return_submission_id)\u001b[0m\n\u001b[0;32m    268\u001b[0m     wcs \u001b[38;5;241m=\u001b[39m {}\n\u001b[0;32m    269\u001b[0m \u001b[38;5;28;01melif\u001b[39;00m timed_out:\n\u001b[1;32m--> 270\u001b[0m     \u001b[38;5;28;01mraise\u001b[39;00m \u001b[38;5;167;01mTimeoutError\u001b[39;00m(\u001b[38;5;124m'\u001b[39m\u001b[38;5;124mSolve timed out without success or failure\u001b[39m\u001b[38;5;124m'\u001b[39m,\n\u001b[0;32m    271\u001b[0m                        submission_id)\n\u001b[0;32m    272\u001b[0m \u001b[38;5;28;01melse\u001b[39;00m:\n\u001b[0;32m    273\u001b[0m     \u001b[38;5;66;03m# Try to future-proof a little bit\u001b[39;00m\n\u001b[0;32m    274\u001b[0m     \u001b[38;5;28;01mraise\u001b[39;00m \u001b[38;5;167;01mRuntimeError\u001b[39;00m(\u001b[38;5;124m'\u001b[39m\u001b[38;5;124mUnrecognized status \u001b[39m\u001b[38;5;132;01m{}\u001b[39;00m\u001b[38;5;124m'\u001b[39m\u001b[38;5;241m.\u001b[39mformat(status))\n",
      "\u001b[1;31mTimeoutError\u001b[0m: ('Solve timed out without success or failure', 11164279)"
     ]
    },
    {
     "ename": "",
     "evalue": "",
     "output_type": "error",
     "traceback": [
      "\u001b[1;31mThe Kernel crashed while executing code in the current cell or a previous cell. \n",
      "\u001b[1;31mPlease review the code in the cell(s) to identify a possible cause of the failure. \n",
      "\u001b[1;31mClick <a href='https://aka.ms/vscodeJupyterKernelCrash'>here</a> for more info. \n",
      "\u001b[1;31mView Jupyter <a href='command:jupyter.viewOutput'>log</a> for further details."
     ]
    }
   ],
   "source": [
    "ast = AstrometryNet()\n",
    "ast.api_key = 'lhtjfjrgllrbebjp'\n",
    "\n",
    "wcs_header = ast.solve_from_image(r\"..\\FITS_Files\\Nov_5_DY_Peg\\Dy_Peg_Light_Frames_.00000031.FIT\")"
   ]
  }
 ],
 "metadata": {
  "kernelspec": {
   "display_name": "Python 3",
   "language": "python",
   "name": "python3"
  },
  "language_info": {
   "codemirror_mode": {
    "name": "ipython",
    "version": 3
   },
   "file_extension": ".py",
   "mimetype": "text/x-python",
   "name": "python",
   "nbconvert_exporter": "python",
   "pygments_lexer": "ipython3",
   "version": "3.12.7"
  }
 },
 "nbformat": 4,
 "nbformat_minor": 2
}
