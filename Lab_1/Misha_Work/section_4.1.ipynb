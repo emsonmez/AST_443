{
 "cells": [
  {
   "cell_type": "code",
   "execution_count": null,
   "metadata": {},
   "outputs": [],
   "source": [
    "# Importing necessary packages\n",
    "import numpy as np \n",
    "import matplotlib.pyplot as plt\n",
    "from astropy.io import fits\n",
    "from astropy.modeling import models, fitting"
   ]
  },
  {
   "cell_type": "code",
   "execution_count": null,
   "metadata": {},
   "outputs": [],
   "source": [
    "bias_frame=fits.open(r\"../FITS_Files/3.1_bias.00000011.BIAS.FIT\")\n",
    "bias_frame_data=bias_frame[0].data\n",
    "plt.imshow(bias_frame_data,cmap='gray',vmin=950,vmax=1500)\n",
    "plt.colorbar()\n",
    "plt.xlabel('X pixels')\n",
    "plt.ylabel('Y pixels')\n",
    "plt.show()"
   ]
  },
  {
   "cell_type": "code",
   "execution_count": null,
   "metadata": {},
   "outputs": [],
   "source": [
    "flattened_data=bias_frame_data.flatten()\n",
    "\n",
    "plt.hist(flattened_data,bins=200,range=(950,1500),log=True,color='blue',edgecolor='black')\n",
    "plt.title('Histogram of Pixel Intensities')\n",
    "plt.xlabel('Intensity')\n",
    "plt.ylabel('Counts')\n"
   ]
  },
  {
   "cell_type": "code",
   "execution_count": null,
   "metadata": {},
   "outputs": [],
   "source": [
    "threshold=1050\n",
    "\n",
    "filtered_data=flattened_data[flattened_data<=threshold]\n",
    "\n",
    "plt.hist(filtered_data,bins=100,range=(950,1050),color='blue',edgecolor='black')\n",
    "plt.title('Filtered Histogram of Pixel Intensities (<=1050)')\n",
    "plt.xlabel('Intensity')\n",
    "plt.ylabel('Counts')"
   ]
  },
  {
   "cell_type": "code",
   "execution_count": null,
   "metadata": {},
   "outputs": [],
   "source": [
    "num_cut_pixels=len(flattened_data)-len(filtered_data)\n",
    "\n",
    "fraction_cut=(num_cut_pixels/len(flattened_data))*100\n",
    "\n",
    "print(f'Number of pixels cut: {num_cut_pixels}')\n",
    "print(f'Fraction of pixel cut: {fraction_cut}')"
   ]
  },
  {
   "cell_type": "code",
   "execution_count": null,
   "metadata": {},
   "outputs": [],
   "source": [
    "mean_filtered=np.mean(filtered_data)\n",
    "std_filtered=np.std(filtered_data)\n",
    "\n",
    "print(f'Mean of the filtered data: {mean_filtered}')\n",
    "print(f'Standard deviation of the filtered data: {std_filtered}')"
   ]
  },
  {
   "cell_type": "code",
   "execution_count": null,
   "metadata": {},
   "outputs": [],
   "source": [
    "def plot_gaussian(data, range_values, mean, stddev, num_bins):\n",
    "    \"\"\"\n",
    "    Plot a histogram of the pixel intensities with an overlaid Gaussian fit.\n",
    "    \n",
    "    :param data: The pixel intensity data to plot.\n",
    "    :type data: np.ndarray\n",
    "    :param range_values: The range for the histogram (min, max).\n",
    "    :type range_values: tuple \n",
    "    :param mean: The mean of the Gaussian fit. \n",
    "    :type mean: float :unit: Analog Digital Unit (ADU)\n",
    "    :param stddev: The standard deviation of the Gaussian fit. \n",
    "    :type stddev: float :unit: Analog Digital Unit (ADU)\n",
    "    :param num_bins: The number of bins to use for the histogram.\n",
    "    :type num_bins: int\n",
    "    :return: Displays the plot with the histogram and Gaussian fit.\n",
    "    :rtype: None\n",
    "    \"\"\"\n",
    "    # Calculate histogram\n",
    "    bin_heights, bin_borders = np.histogram(data, bins=num_bins, range=range_values)\n",
    "    bin_widths = np.diff(bin_borders)\n",
    "    bin_centers = bin_borders[:-1] + bin_widths / 2\n",
    "\n",
    "    # Initialize Gaussian model\n",
    "    gaussian = models.Gaussian1D(mean=mean, stddev=stddev)\n",
    "    \n",
    "    # Select fitting algorithm\n",
    "    fitter = fitting.LevMarLSQFitter()\n",
    "    \n",
    "    # Fit the Gaussian model to the histogram data\n",
    "    best_fit = fitter(gaussian, bin_centers, bin_heights)\n",
    "\n",
    "    # Determine x-values for Gaussian fit\n",
    "    x_interval_Gaussian = np.linspace(range_values[0], range_values[1], 10000)\n",
    "\n",
    "    # Create the plot\n",
    "    plt.figure()\n",
    "    plt.bar(bin_centers, bin_heights, width=bin_widths, label='Histogram', log=False, color='blue')\n",
    "    plt.plot(x_interval_Gaussian, best_fit(x_interval_Gaussian), label='Gaussian Fit', color='red')\n",
    "    plt.xlabel('Intensity')\n",
    "    plt.ylabel('Counts')\n",
    "    plt.title('Histogram of Pixel Intensities with Gaussian Fit')\n",
    "    plt.legend()\n",
    "    plt.show()\n",
    "\n",
    "# Example usage\n",
    "plot_gaussian(data=filtered_data, range_values=(950, 1050), mean=np.mean(filtered_data), stddev=np.std(filtered_data), num_bins=100)"
   ]
  },
  {
   "cell_type": "code",
   "execution_count": null,
   "metadata": {},
   "outputs": [],
   "source": [
    "gain=2\n",
    "\n",
    "actual_num_electrons=14.8\n",
    "\n",
    "measured_num_electrons=gain*np.std(filtered_data)\n",
    "\n",
    "difference=measured_num_electrons-actual_num_electrons\n",
    "percentage_error= (difference/actual_num_electrons)*100\n",
    "\n",
    "print(f'Measured number of electrons:{measured_num_electrons}e-')\n",
    "print(f'Difference:{difference}e-')\n",
    "print(f'Percentage error:{percentage_error}%')"
   ]
  }
 ],
 "metadata": {
  "language_info": {
   "name": "python"
  }
 },
 "nbformat": 4,
 "nbformat_minor": 2
}
