{
 "cells": [
  {
   "cell_type": "markdown",
   "metadata": {},
   "source": [
    "### Section 4.6: Make a pretty image"
   ]
  },
  {
   "cell_type": "code",
   "execution_count": 21,
   "metadata": {},
   "outputs": [],
   "source": [
    "# Importing necessary packages \n",
    "import numpy as np\n",
    "import matplotlib.pyplot as plt\n",
    "from astropy.io import fits\n",
    "import astroalign as aa"
   ]
  },
  {
   "cell_type": "code",
   "execution_count": 22,
   "metadata": {},
   "outputs": [],
   "source": [
    "def read_pretty_images(file_template, start_index, end_index):\n",
    "    \"\"\"\n",
    "    Read the pretty images (red, blue, visible) of the Ring Nebula.\n",
    "    \n",
    "    :param file_template: Template path for the pretty images with placeholders for the frame number.\n",
    "    :type file_template: str\n",
    "    :param start_index: The starting index for the image frames.\n",
    "    :type start_index: int\n",
    "    :param end_index: The ending index for the image frames.\n",
    "    :type end_index: int\n",
    "    :return: A list containing the data and headers of the loaded FITS files.\n",
    "    \"\"\"\n",
    "    # List to store the FITS data and headers\n",
    "    pretty_images_info = []\n",
    "    # Loop through each file and read the data\n",
    "    for i in range(start_index, end_index + 1):\n",
    "        # Construct the file name based on the frame number\n",
    "        file_path = file_template.format(i)\n",
    "        # Open the FITS file and read the header and data\n",
    "        with fits.open(file_path) as hdul:\n",
    "            header = hdul[0].header\n",
    "            data = hdul[0].data\n",
    "            # Store the header and data\n",
    "            pretty_images_info.append((header, data))\n",
    "    \n",
    "    return pretty_images_info"
   ]
  },
  {
   "cell_type": "code",
   "execution_count": 23,
   "metadata": {},
   "outputs": [],
   "source": [
    "def read_dark_frames(file_template, start_index, end_index):\n",
    "    \"\"\"\n",
    "    Read dark frames and output their exposure times and temperatures.\n",
    "    \n",
    "    :param file_template: Template path for the dark files with placeholders for the frame number.\n",
    "    :type file_template: str\n",
    "    :param start_index: The starting index for the dark frames.\n",
    "    :type start_index: int\n",
    "    :param end_index: The ending index for the dark frames.\n",
    "    :type end_index: int\n",
    "    :return: A list containing the data and headers of the loaded dark frames.\n",
    "    \"\"\"\n",
    "    # List to store the FITS data and headers\n",
    "    dark_frame_info = []\n",
    "    # Loop through each dark frame and read the data\n",
    "    for i in range(start_index, end_index + 1):\n",
    "        # Construct the file name based on the frame number\n",
    "        file_path = file_template.format(i)\n",
    "        # Open the FITS file and read the header and data\n",
    "        with fits.open(file_path) as hdul:\n",
    "            header = hdul[0].header\n",
    "            data = hdul[0].data\n",
    "            # Store the header and data\n",
    "            dark_frame_info.append((header, data))\n",
    "    \n",
    "    return dark_frame_info"
   ]
  },
  {
   "cell_type": "code",
   "execution_count": 24,
   "metadata": {},
   "outputs": [],
   "source": [
    "def calculate_median(data_list):\n",
    "    \"\"\"\n",
    "    Calculate the median of a list of 2D arrays.\n",
    "    \n",
    "    :param data_list: List of 2D arrays (images).\n",
    "    :type data_list: list\n",
    "    :return: Median of the 2D arrays.\n",
    "    \"\"\"\n",
    "    return np.median(np.array(data_list), axis=0)"
   ]
  },
  {
   "cell_type": "code",
   "execution_count": 25,
   "metadata": {},
   "outputs": [],
   "source": [
    "def subtract_median_dark_from_pretty(median_dark, median_pretty):\n",
    "    \"\"\"\n",
    "    Subtract the median dark frame from the median pretty image.\n",
    "    \n",
    "    :param median_dark: Median dark frame.\n",
    "    :type median_dark: ndarray\n",
    "    :param median_pretty: Median pretty image.\n",
    "    :type median_pretty: ndarray\n",
    "    :return: Subtracted image.\n",
    "    \"\"\"\n",
    "    return median_pretty - median_dark"
   ]
  },
  {
   "cell_type": "code",
   "execution_count": 26,
   "metadata": {},
   "outputs": [],
   "source": [
    "# Templates for the file names\n",
    "dark_frame_file_template = r\"..\\FITS_Files\\ring_nebula_dark_frame_10_sec.{:08d}.DARK.FIT\"\n",
    "red_file_template = r\"..\\FITS_Files\\ring_nebula_for_10_sec_red.{:08d}.FIT\"\n",
    "blue_file_template = r\"..\\FITS_Files\\ring_nebula_for_10_sec_blue.{:08d}.FIT\"\n",
    "visible_file_template = r\"..\\FITS_Files\\ring_nebula_for_10_sec_visible.{:08d}.FIT\"\n",
    "\n",
    "# Define the starting and ending indices\n",
    "dark_start_index = 4\n",
    "dark_end_index = 6\n",
    "pretty_start_index = 0\n",
    "pretty_end_index = 2\n",
    "\n",
    "# Read dark frames and pretty images\n",
    "dark_frames = read_dark_frames(dark_frame_file_template, dark_start_index, dark_end_index)\n",
    "pretty_red_images = read_pretty_images(red_file_template, pretty_start_index, pretty_end_index)\n",
    "pretty_blue_images = read_pretty_images(blue_file_template, pretty_start_index, pretty_end_index)\n",
    "pretty_visible_images = read_pretty_images(visible_file_template, pretty_start_index, pretty_end_index)\n",
    "\n",
    "# Extract the image data from the dark frames and pretty images\n",
    "dark_data = [data for header, data in dark_frames]\n",
    "red_data = [data for header, data in pretty_red_images]\n",
    "blue_data = [data for header, data in pretty_blue_images]\n",
    "visible_data = [data for header, data in pretty_visible_images]\n",
    "\n",
    "# Calculate medians\n",
    "median_dark = calculate_median(dark_data)\n",
    "median_red = calculate_median(red_data)\n",
    "median_blue = calculate_median(blue_data)\n",
    "median_visible = calculate_median(visible_data)\n",
    "\n",
    "# Subtract the median dark frame from the median pretty images\n",
    "subtracted_red = subtract_median_dark_from_pretty(median_dark, median_red)\n",
    "subtracted_blue = subtract_median_dark_from_pretty(median_dark, median_blue)\n",
    "subtracted_visible = subtract_median_dark_from_pretty(median_dark, median_visible)"
   ]
  },
  {
   "cell_type": "code",
   "execution_count": 28,
   "metadata": {},
   "outputs": [
    {
     "ename": "PermissionError",
     "evalue": "[WinError 32] The process cannot access the file because it is being used by another process: 'aligned_green.fits'",
     "output_type": "error",
     "traceback": [
      "\u001b[1;31m---------------------------------------------------------------------------\u001b[0m",
      "\u001b[1;31mPermissionError\u001b[0m                           Traceback (most recent call last)",
      "Cell \u001b[1;32mIn[28], line 10\u001b[0m\n\u001b[0;32m      8\u001b[0m fits\u001b[38;5;241m.\u001b[39mPrimaryHDU(aligned_blue)\u001b[38;5;241m.\u001b[39mwriteto(\u001b[38;5;124m\"\u001b[39m\u001b[38;5;124maligned_blue.fits\u001b[39m\u001b[38;5;124m\"\u001b[39m, overwrite\u001b[38;5;241m=\u001b[39m\u001b[38;5;28;01mTrue\u001b[39;00m)\n\u001b[0;32m      9\u001b[0m fits\u001b[38;5;241m.\u001b[39mPrimaryHDU(aligned_red)\u001b[38;5;241m.\u001b[39mwriteto(\u001b[38;5;124m\"\u001b[39m\u001b[38;5;124maligned_red.fits\u001b[39m\u001b[38;5;124m\"\u001b[39m, overwrite\u001b[38;5;241m=\u001b[39m\u001b[38;5;28;01mTrue\u001b[39;00m)\n\u001b[1;32m---> 10\u001b[0m \u001b[43mfits\u001b[49m\u001b[38;5;241;43m.\u001b[39;49m\u001b[43mPrimaryHDU\u001b[49m\u001b[43m(\u001b[49m\u001b[43mcalibrated_images\u001b[49m\u001b[43m[\u001b[49m\u001b[38;5;241;43m0\u001b[39;49m\u001b[43m]\u001b[49m\u001b[43m)\u001b[49m\u001b[38;5;241;43m.\u001b[39;49m\u001b[43mwriteto\u001b[49m\u001b[43m(\u001b[49m\u001b[38;5;124;43m\"\u001b[39;49m\u001b[38;5;124;43maligned_green.fits\u001b[39;49m\u001b[38;5;124;43m\"\u001b[39;49m\u001b[43m,\u001b[49m\u001b[43m \u001b[49m\u001b[43moverwrite\u001b[49m\u001b[38;5;241;43m=\u001b[39;49m\u001b[38;5;28;43;01mTrue\u001b[39;49;00m\u001b[43m)\u001b[49m\n",
      "File \u001b[1;32m~\\AppData\\Local\\Packages\\PythonSoftwareFoundation.Python.3.10_qbz5n2kfra8p0\\LocalCache\\local-packages\\Python310\\site-packages\\astropy\\io\\fits\\hdu\\base.py:398\u001b[0m, in \u001b[0;36m_BaseHDU.writeto\u001b[1;34m(self, name, output_verify, overwrite, checksum)\u001b[0m\n\u001b[0;32m    395\u001b[0m \u001b[38;5;28;01mfrom\u001b[39;00m \u001b[38;5;21;01m.\u001b[39;00m\u001b[38;5;21;01mhdulist\u001b[39;00m \u001b[38;5;28;01mimport\u001b[39;00m HDUList\n\u001b[0;32m    397\u001b[0m hdulist \u001b[38;5;241m=\u001b[39m HDUList([\u001b[38;5;28mself\u001b[39m])\n\u001b[1;32m--> 398\u001b[0m \u001b[43mhdulist\u001b[49m\u001b[38;5;241;43m.\u001b[39;49m\u001b[43mwriteto\u001b[49m\u001b[43m(\u001b[49m\u001b[43mname\u001b[49m\u001b[43m,\u001b[49m\u001b[43m \u001b[49m\u001b[43moutput_verify\u001b[49m\u001b[43m,\u001b[49m\u001b[43m \u001b[49m\u001b[43moverwrite\u001b[49m\u001b[38;5;241;43m=\u001b[39;49m\u001b[43moverwrite\u001b[49m\u001b[43m,\u001b[49m\u001b[43m \u001b[49m\u001b[43mchecksum\u001b[49m\u001b[38;5;241;43m=\u001b[39;49m\u001b[43mchecksum\u001b[49m\u001b[43m)\u001b[49m\n",
      "File \u001b[1;32m~\\AppData\\Local\\Packages\\PythonSoftwareFoundation.Python.3.10_qbz5n2kfra8p0\\LocalCache\\local-packages\\Python310\\site-packages\\astropy\\io\\fits\\hdu\\hdulist.py:1031\u001b[0m, in \u001b[0;36mHDUList.writeto\u001b[1;34m(self, fileobj, output_verify, overwrite, checksum)\u001b[0m\n\u001b[0;32m   1027\u001b[0m mode \u001b[38;5;241m=\u001b[39m FILE_MODES[fileobj_mode(fileobj)] \u001b[38;5;28;01mif\u001b[39;00m isfile(fileobj) \u001b[38;5;28;01melse\u001b[39;00m \u001b[38;5;124m\"\u001b[39m\u001b[38;5;124mostream\u001b[39m\u001b[38;5;124m\"\u001b[39m\n\u001b[0;32m   1029\u001b[0m \u001b[38;5;66;03m# This can accept an open file object that's open to write only, or in\u001b[39;00m\n\u001b[0;32m   1030\u001b[0m \u001b[38;5;66;03m# append/update modes but only if the file doesn't exist.\u001b[39;00m\n\u001b[1;32m-> 1031\u001b[0m fileobj \u001b[38;5;241m=\u001b[39m \u001b[43m_File\u001b[49m\u001b[43m(\u001b[49m\u001b[43mfileobj\u001b[49m\u001b[43m,\u001b[49m\u001b[43m \u001b[49m\u001b[43mmode\u001b[49m\u001b[38;5;241;43m=\u001b[39;49m\u001b[43mmode\u001b[49m\u001b[43m,\u001b[49m\u001b[43m \u001b[49m\u001b[43moverwrite\u001b[49m\u001b[38;5;241;43m=\u001b[39;49m\u001b[43moverwrite\u001b[49m\u001b[43m)\u001b[49m\n\u001b[0;32m   1032\u001b[0m hdulist \u001b[38;5;241m=\u001b[39m \u001b[38;5;28mself\u001b[39m\u001b[38;5;241m.\u001b[39mfromfile(fileobj)\n\u001b[0;32m   1033\u001b[0m \u001b[38;5;28;01mtry\u001b[39;00m:\n",
      "File \u001b[1;32m~\\AppData\\Local\\Packages\\PythonSoftwareFoundation.Python.3.10_qbz5n2kfra8p0\\LocalCache\\local-packages\\Python310\\site-packages\\astropy\\io\\fits\\file.py:218\u001b[0m, in \u001b[0;36m_File.__init__\u001b[1;34m(self, fileobj, mode, memmap, overwrite, cache, use_fsspec, fsspec_kwargs)\u001b[0m\n\u001b[0;32m    216\u001b[0m     \u001b[38;5;28mself\u001b[39m\u001b[38;5;241m.\u001b[39m_open_fileobj(fileobj, mode, overwrite)\n\u001b[0;32m    217\u001b[0m \u001b[38;5;28;01melif\u001b[39;00m \u001b[38;5;28misinstance\u001b[39m(fileobj, (\u001b[38;5;28mstr\u001b[39m, \u001b[38;5;28mbytes\u001b[39m)):\n\u001b[1;32m--> 218\u001b[0m     \u001b[38;5;28;43mself\u001b[39;49m\u001b[38;5;241;43m.\u001b[39;49m\u001b[43m_open_filename\u001b[49m\u001b[43m(\u001b[49m\u001b[43mfileobj\u001b[49m\u001b[43m,\u001b[49m\u001b[43m \u001b[49m\u001b[43mmode\u001b[49m\u001b[43m,\u001b[49m\u001b[43m \u001b[49m\u001b[43moverwrite\u001b[49m\u001b[43m)\u001b[49m\n\u001b[0;32m    219\u001b[0m \u001b[38;5;28;01melse\u001b[39;00m:\n\u001b[0;32m    220\u001b[0m     \u001b[38;5;28mself\u001b[39m\u001b[38;5;241m.\u001b[39m_open_filelike(fileobj, mode, overwrite)\n",
      "File \u001b[1;32m~\\AppData\\Local\\Packages\\PythonSoftwareFoundation.Python.3.10_qbz5n2kfra8p0\\LocalCache\\local-packages\\Python310\\site-packages\\astropy\\io\\fits\\file.py:625\u001b[0m, in \u001b[0;36m_File._open_filename\u001b[1;34m(self, filename, mode, overwrite)\u001b[0m\n\u001b[0;32m    622\u001b[0m \u001b[38;5;250m\u001b[39m\u001b[38;5;124;03m\"\"\"Open a FITS file from a filename string.\"\"\"\u001b[39;00m\n\u001b[0;32m    624\u001b[0m \u001b[38;5;28;01mif\u001b[39;00m mode \u001b[38;5;241m==\u001b[39m \u001b[38;5;124m\"\u001b[39m\u001b[38;5;124mostream\u001b[39m\u001b[38;5;124m\"\u001b[39m:\n\u001b[1;32m--> 625\u001b[0m     \u001b[38;5;28;43mself\u001b[39;49m\u001b[38;5;241;43m.\u001b[39;49m\u001b[43m_overwrite_existing\u001b[49m\u001b[43m(\u001b[49m\u001b[43moverwrite\u001b[49m\u001b[43m,\u001b[49m\u001b[43m \u001b[49m\u001b[38;5;28;43;01mNone\u001b[39;49;00m\u001b[43m,\u001b[49m\u001b[43m \u001b[49m\u001b[38;5;28;43;01mTrue\u001b[39;49;00m\u001b[43m)\u001b[49m\n\u001b[0;32m    627\u001b[0m \u001b[38;5;28;01mif\u001b[39;00m os\u001b[38;5;241m.\u001b[39mpath\u001b[38;5;241m.\u001b[39mexists(\u001b[38;5;28mself\u001b[39m\u001b[38;5;241m.\u001b[39mname):\n\u001b[0;32m    628\u001b[0m     \u001b[38;5;28;01mwith\u001b[39;00m \u001b[38;5;28mopen\u001b[39m(\u001b[38;5;28mself\u001b[39m\u001b[38;5;241m.\u001b[39mname, \u001b[38;5;124m\"\u001b[39m\u001b[38;5;124mrb\u001b[39m\u001b[38;5;124m\"\u001b[39m) \u001b[38;5;28;01mas\u001b[39;00m f:\n",
      "File \u001b[1;32m~\\AppData\\Local\\Packages\\PythonSoftwareFoundation.Python.3.10_qbz5n2kfra8p0\\LocalCache\\local-packages\\Python310\\site-packages\\astropy\\io\\fits\\file.py:501\u001b[0m, in \u001b[0;36m_File._overwrite_existing\u001b[1;34m(self, overwrite, fileobj, closed)\u001b[0m\n\u001b[0;32m    499\u001b[0m         \u001b[38;5;28;01mif\u001b[39;00m \u001b[38;5;129;01mnot\u001b[39;00m closed:\n\u001b[0;32m    500\u001b[0m             fileobj\u001b[38;5;241m.\u001b[39mclose()\n\u001b[1;32m--> 501\u001b[0m         \u001b[43mos\u001b[49m\u001b[38;5;241;43m.\u001b[39;49m\u001b[43mremove\u001b[49m\u001b[43m(\u001b[49m\u001b[38;5;28;43mself\u001b[39;49m\u001b[38;5;241;43m.\u001b[39;49m\u001b[43mname\u001b[49m\u001b[43m)\u001b[49m\n\u001b[0;32m    502\u001b[0m \u001b[38;5;28;01melse\u001b[39;00m:\n\u001b[0;32m    503\u001b[0m     \u001b[38;5;28;01mraise\u001b[39;00m \u001b[38;5;167;01mOSError\u001b[39;00m(NOT_OVERWRITING_MSG\u001b[38;5;241m.\u001b[39mformat(\u001b[38;5;28mself\u001b[39m\u001b[38;5;241m.\u001b[39mname))\n",
      "\u001b[1;31mPermissionError\u001b[0m: [WinError 32] The process cannot access the file because it is being used by another process: 'aligned_green.fits'"
     ]
    }
   ],
   "source": [
    "# Align the pretty images to the green (visible) image\n",
    "calibrated_images = [subtracted_visible, subtracted_blue, subtracted_red]\n",
    "\n",
    "aligned_blue, footprint = aa.register(calibrated_images[0], calibrated_images[1])  \n",
    "aligned_red, footprint = aa.register(calibrated_images[2], calibrated_images[1])  \n",
    "\n",
    "# Save aligned images as FITS files\n",
    "fits.PrimaryHDU(aligned_blue).writeto(\"aligned_blue.fits\", overwrite=True)\n",
    "fits.PrimaryHDU(aligned_red).writeto(\"aligned_red.fits\", overwrite=True)\n",
    "fits.PrimaryHDU(calibrated_images[0]).writeto(\"aligned_green.fits\", overwrite=True)"
   ]
  }
 ],
 "metadata": {
  "kernelspec": {
   "display_name": "Python 3",
   "language": "python",
   "name": "python3"
  },
  "language_info": {
   "codemirror_mode": {
    "name": "ipython",
    "version": 3
   },
   "file_extension": ".py",
   "mimetype": "text/x-python",
   "name": "python",
   "nbconvert_exporter": "python",
   "pygments_lexer": "ipython3",
   "version": "3.10.11"
  }
 },
 "nbformat": 4,
 "nbformat_minor": 2
}
