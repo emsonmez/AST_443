{
 "cells": [
  {
   "cell_type": "code",
   "execution_count": 1,
   "metadata": {},
   "outputs": [],
   "source": [
    "# Importing necessary packages \n",
    "import numpy as np\n",
    "import matplotlib.pyplot as plt\n",
    "from astropy.io import fits\n",
    "import astroalign as aa"
   ]
  },
  {
   "cell_type": "code",
   "execution_count": 2,
   "metadata": {},
   "outputs": [],
   "source": [
    "def read_pretty_images(file_template, start_index, end_index):\n",
    "    \"\"\"\n",
    "    Read the pretty images (red, blue, visible) of the Ring Nebula.\n",
    "    \n",
    "    :param file_template: Template path for the pretty images with placeholders for the frame number.\n",
    "    :type file_template: str\n",
    "    :param start_index: The starting index for the image frames.\n",
    "    :type start_index: int\n",
    "    :param end_index: The ending index for the image frames.\n",
    "    :type end_index: int\n",
    "    :return: A list containing the data and headers of the loaded FITS files.\n",
    "    \"\"\"\n",
    "    # List to store the FITS data and headers\n",
    "    pretty_images_info = []\n",
    "    # Loop through each file and read the data\n",
    "    for i in range(start_index, end_index + 1):\n",
    "        # Construct the file name based on the frame number\n",
    "        file_path = file_template.format(i)\n",
    "        # Open the FITS file and read the header and data\n",
    "        with fits.open(file_path) as hdul:\n",
    "            header = hdul[0].header\n",
    "            data = hdul[0].data\n",
    "            # Store the header and data\n",
    "            pretty_images_info.append((header, data))\n",
    "    \n",
    "    return pretty_images_info"
   ]
  },
  {
   "cell_type": "code",
   "execution_count": 3,
   "metadata": {},
   "outputs": [],
   "source": [
    "def read_dark_frames(file_template, start_index, end_index):\n",
    "    \"\"\"\n",
    "    Read dark frames and output their exposure times and temperatures.\n",
    "    \n",
    "    :param file_template: Template path for the dark files with placeholders for the frame number.\n",
    "    :type file_template: str\n",
    "    :param start_index: The starting index for the dark frames.\n",
    "    :type start_index: int\n",
    "    :param end_index: The ending index for the dark frames.\n",
    "    :type end_index: int\n",
    "    :return: A list containing the data and headers of the loaded dark frames.\n",
    "    \"\"\"\n",
    "    # List to store the FITS data and headers\n",
    "    dark_frame_info = []\n",
    "    # Loop through each dark frame and read the data\n",
    "    for i in range(start_index, end_index + 1):\n",
    "        # Construct the file name based on the frame number\n",
    "        file_path = file_template.format(i)\n",
    "        # Open the FITS file and read the header and data\n",
    "        with fits.open(file_path) as hdul:\n",
    "            header = hdul[0].header\n",
    "            data = hdul[0].data\n",
    "            # Store the header and data\n",
    "            dark_frame_info.append((header, data))\n",
    "    \n",
    "    return dark_frame_info"
   ]
  },
  {
   "cell_type": "code",
   "execution_count": 4,
   "metadata": {},
   "outputs": [],
   "source": [
    "def calculate_median(data_list):\n",
    "    \"\"\"\n",
    "    Calculate the median of a list of 2D arrays.\n",
    "    \n",
    "    :param data_list: List of 2D arrays (images).\n",
    "    :type data_list: list\n",
    "    :return: Median of the 2D arrays.\n",
    "    \"\"\"\n",
    "    return np.median(np.array(data_list), axis=0)"
   ]
  },
  {
   "cell_type": "code",
   "execution_count": 5,
   "metadata": {},
   "outputs": [],
   "source": [
    "def subtract_median_dark_from_pretty(median_dark, median_pretty):\n",
    "    \"\"\"\n",
    "    Subtract the median dark frame from the median pretty image.\n",
    "    \n",
    "    :param median_dark: Median dark frame.\n",
    "    :type median_dark: ndarray\n",
    "    :param median_pretty: Median pretty image.\n",
    "    :type median_pretty: ndarray\n",
    "    :return: Subtracted image.\n",
    "    \"\"\"\n",
    "    return median_pretty - median_dark"
   ]
  },
  {
   "cell_type": "code",
   "execution_count": 6,
   "metadata": {},
   "outputs": [],
   "source": [
    "# Templates for the file names\n",
    "dark_frame_file_template = r\"..\\FITS_Files\\ring_nebula_dark_frame_10_sec.{:08d}.DARK.FIT\"\n",
    "red_file_template = r\"..\\FITS_Files\\ring_nebula_for_10_sec_red.{:08d}.FIT\"\n",
    "blue_file_template = r\"..\\FITS_Files\\ring_nebula_for_10_sec_blue.{:08d}.FIT\"\n",
    "visible_file_template = r\"..\\FITS_Files\\ring_nebula_for_10_sec_visible.{:08d}.FIT\"\n",
    "\n",
    "# Define the starting and ending indices\n",
    "dark_start_index = 4\n",
    "dark_end_index = 6\n",
    "pretty_start_index = 0\n",
    "pretty_end_index = 2\n",
    "\n",
    "# Read dark frames and pretty images\n",
    "dark_frames = read_dark_frames(dark_frame_file_template, dark_start_index, dark_end_index)\n",
    "pretty_red_images = read_pretty_images(red_file_template, pretty_start_index, pretty_end_index)\n",
    "pretty_blue_images = read_pretty_images(blue_file_template, pretty_start_index, pretty_end_index)\n",
    "pretty_visible_images = read_pretty_images(visible_file_template, pretty_start_index, pretty_end_index)\n",
    "\n",
    "# Extract the image data from the dark frames and pretty images\n",
    "dark_data = [data for header, data in dark_frames]\n",
    "red_data = [data for header, data in pretty_red_images]\n",
    "blue_data = [data for header, data in pretty_blue_images]\n",
    "visible_data = [data for header, data in pretty_visible_images]\n",
    "\n",
    "# Calculate medians\n",
    "median_dark = calculate_median(dark_data)\n",
    "median_red = calculate_median(red_data)\n",
    "median_blue = calculate_median(blue_data)\n",
    "median_visible = calculate_median(visible_data)\n",
    "\n",
    "# Subtract the median dark frame from the median pretty images\n",
    "subtracted_red = subtract_median_dark_from_pretty(median_dark, median_red)\n",
    "subtracted_blue = subtract_median_dark_from_pretty(median_dark, median_blue)\n",
    "subtracted_visible = subtract_median_dark_from_pretty(median_dark, median_visible)"
   ]
  },
  {
   "cell_type": "code",
   "execution_count": 7,
   "metadata": {},
   "outputs": [],
   "source": [
    "# Align the pretty images to the green (visible) image\n",
    "calibrated_images = [subtracted_visible, subtracted_blue, subtracted_red]\n",
    "\n",
    "aligned_blue, footprint = aa.register(calibrated_images[0], calibrated_images[1])  \n",
    "aligned_red, footprint = aa.register(calibrated_images[2], calibrated_images[1])  \n",
    "\n",
    "# Save aligned images as FITS files\n",
    "fits.PrimaryHDU(aligned_blue).writeto(\"aligned_blue.fits\", overwrite=True)\n",
    "fits.PrimaryHDU(aligned_red).writeto(\"aligned_red.fits\", overwrite=True)\n",
    "fits.PrimaryHDU(calibrated_images[0]).writeto(\"aligned_green.fits\", overwrite=True)"
   ]
  },
  {
   "cell_type": "code",
   "execution_count": null,
   "metadata": {},
   "outputs": [],
   "source": []
  }
 ],
 "metadata": {
  "kernelspec": {
   "display_name": "Python 3",
   "language": "python",
   "name": "python3"
  },
  "language_info": {
   "codemirror_mode": {
    "name": "ipython",
    "version": 3
   },
   "file_extension": ".py",
   "mimetype": "text/x-python",
   "name": "python",
   "nbconvert_exporter": "python",
   "pygments_lexer": "ipython3",
   "version": "3.12.5"
  }
 },
 "nbformat": 4,
 "nbformat_minor": 2
}
