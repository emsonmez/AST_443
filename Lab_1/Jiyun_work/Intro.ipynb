{
 "cells": [
  {
   "cell_type": "markdown",
   "metadata": {},
   "source": [
    "AST 443 - Lab 1: Properties of CCD Cameras\n",
    "\n",
    "Author List/SBU ID's: 114918484, 115070985\n",
    "\n",
    "Observation Date: September 4th, 2024\n",
    "\n",
    "Report Date: October 7th, 2024"
   ]
  }
 ],
 "metadata": {
  "language_info": {
   "name": "python"
  }
 },
 "nbformat": 4,
 "nbformat_minor": 2
}
